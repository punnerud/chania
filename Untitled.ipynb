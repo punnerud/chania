{
 "cells": [
  {
   "cell_type": "code",
   "execution_count": 15,
   "metadata": {},
   "outputs": [],
   "source": [
    "import requests, json"
   ]
  },
  {
   "cell_type": "code",
   "execution_count": 16,
   "metadata": {},
   "outputs": [
    {
     "name": "stderr",
     "output_type": "stream",
     "text": [
      "/Users/mortenpunnerud/anaconda3/lib/python3.6/site-packages/urllib3/connectionpool.py:852: InsecureRequestWarning: Unverified HTTPS request is being made. Adding certificate verification is strongly advised. See: https://urllib3.readthedocs.io/en/latest/advanced-usage.html#ssl-warnings\n",
      "  InsecureRequestWarning)\n"
     ]
    }
   ],
   "source": [
    "response = requests.get(\n",
    "    #'https://chania.3pi-telematics.com/en/api/getRouteDetailPerRoute/1391', #Rute\n",
    "    'https://chania.3pi-telematics.com/el/api/getBusLocation/1391/', #Busslokasjon\n",
    "    params=[('a', '1')], verify=False,\n",
    "headers={'Accept': '*/*',\n",
    "   'Accept-Encoding': 'gzip, '\n",
    "   'deflate',\n",
    "   'Accept-Language': 'en-us',\n",
    "   'Connection': 'keep-alive',\n",
    "   #s'Cookie': 'PHPSESSID=djt6gdbi1o771nvatcpuc269h0',\n",
    "   'User-Agent': 'transit/9 '\n",
    "   'CFNetwork/901.1 '\n",
    "   'Darwin/17.6.0'}\n",
    ")"
   ]
  },
  {
   "cell_type": "code",
   "execution_count": 3,
   "metadata": {},
   "outputs": [
    {
     "data": {
      "text/plain": [
       "'[{\"VEH_NO\":\"14\",\"CS_DATE\":null,\"CS_LAT\":\"35.5077380\",\"CS_LNG\":\"23.9924080\",\"ROUTE_CODE\":\"1391\"},{\"VEH_NO\":\"25\",\"CS_DATE\":null,\"CS_LAT\":\"35.5128150\",\"CS_LNG\":\"24.0178830\",\"ROUTE_CODE\":\"1391\"},{\"VEH_NO\":\"26\",\"CS_DATE\":null,\"CS_LAT\":\"35.5136230\",\"CS_LNG\":\"23.9809010\",\"ROUTE_CODE\":\"1391\"},{\"VEH_NO\":\"34\",\"CS_DATE\":null,\"CS_LAT\":\"35.5130300\",\"CS_LNG\":\"23.9691460\",\"ROUTE_CODE\":\"1391\"}]\\n'"
      ]
     },
     "execution_count": 3,
     "metadata": {},
     "output_type": "execute_result"
    }
   ],
   "source": [
    "response.text"
   ]
  },
  {
   "cell_type": "code",
   "execution_count": 17,
   "metadata": {},
   "outputs": [],
   "source": [
    "r = json.loads(response.text)"
   ]
  },
  {
   "cell_type": "code",
   "execution_count": 28,
   "metadata": {},
   "outputs": [
    {
     "name": "stdout",
     "output_type": "stream",
     "text": [
      "{'VEH_NO': '14', 'CS_DATE': None, 'CS_LAT': '35.5124060', 'CS_LNG': '24.0172210', 'ROUTE_CODE': '1391'}\n",
      "Veh: 14\n",
      "CS_LAT: 35.512406\n",
      "CS_LNG: 24.017221\n",
      "ROUTE_CODE: 1391\n",
      "\n",
      "{'VEH_NO': '25', 'CS_DATE': None, 'CS_LAT': '35.5063260', 'CS_LNG': '23.9955910', 'ROUTE_CODE': '1391'}\n",
      "Veh: 25\n",
      "CS_LAT: 35.506326\n",
      "CS_LNG: 23.995591\n",
      "ROUTE_CODE: 1391\n",
      "\n",
      "{'VEH_NO': '26', 'CS_DATE': None, 'CS_LAT': '35.5127010', 'CS_LNG': '23.9621360', 'ROUTE_CODE': '1391'}\n",
      "Veh: 26\n",
      "CS_LAT: 35.512701\n",
      "CS_LNG: 23.962136\n",
      "ROUTE_CODE: 1391\n",
      "\n",
      "{'VEH_NO': '34', 'CS_DATE': None, 'CS_LAT': '35.5075560', 'CS_LNG': '23.9882610', 'ROUTE_CODE': '1391'}\n",
      "Veh: 34\n",
      "CS_LAT: 35.507556\n",
      "CS_LNG: 23.988261\n",
      "ROUTE_CODE: 1391\n",
      "\n"
     ]
    }
   ],
   "source": [
    "for i in r:\n",
    "    print(i)\n",
    "    print(\"Veh:\",i[\"VEH_NO\"])\n",
    "    print(\"CS_LAT:\",float(i[\"CS_LAT\"]))\n",
    "    print(\"CS_LNG:\",float(i[\"CS_LNG\"]))\n",
    "    print(\"ROUTE_CODE:\",i[\"ROUTE_CODE\"])\n",
    "    print(\"\")"
   ]
  },
  {
   "cell_type": "code",
   "execution_count": null,
   "metadata": {},
   "outputs": [],
   "source": []
  }
 ],
 "metadata": {
  "kernelspec": {
   "display_name": "Python 3",
   "language": "python",
   "name": "python3"
  },
  "language_info": {
   "codemirror_mode": {
    "name": "ipython",
    "version": 3
   },
   "file_extension": ".py",
   "mimetype": "text/x-python",
   "name": "python",
   "nbconvert_exporter": "python",
   "pygments_lexer": "ipython3",
   "version": "3.6.3"
  }
 },
 "nbformat": 4,
 "nbformat_minor": 2
}
